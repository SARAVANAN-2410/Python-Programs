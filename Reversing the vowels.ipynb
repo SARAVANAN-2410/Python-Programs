{
 "cells": [
  {
   "cell_type": "code",
   "execution_count": 1,
   "metadata": {},
   "outputs": [
    {
     "name": "stdout",
     "output_type": "stream",
     "text": [
      "prectica "
     ]
    }
   ],
   "source": [
    "#User function Template for python3\n",
    "\n",
    "class Solution:\n",
    "    def isVowel(self,c):\n",
    "        return (c=='a' or c=='A' or c=='e' or\n",
    "            c=='E' or c=='i' or c=='I' or\n",
    "            c=='o' or c=='O' or c=='u' or\n",
    "            c=='U') \n",
    "    def modify(self, s):\n",
    "        # code here\n",
    "        # Start two indexes from two corners \n",
    "        # and move toward each other\n",
    "        s = list(s)\n",
    "        i = 0\n",
    "        j = len(s) - 1\n",
    "        while (i < j):\n",
    "            if not self.isVowel(s[i]):\n",
    "                i += 1\n",
    "                continue\n",
    "            if (not self.isVowel(s[j])):\n",
    "                j -= 1\n",
    "                continue\n",
    "         \n",
    "            # swapping \n",
    "            s[i], s[j] = s[j], s[i]\n",
    "            i += 1\n",
    "            j -= 1\n",
    "        return \"\".join(s)\n",
    "\n",
    "if __name__ == \"__main__\":\n",
    "    x = input().strip()\n",
    "    ob = Solution()\n",
    "    answer = ob.modify(x)\n",
    "    print(answer,end=\" \")"
   ]
  },
  {
   "cell_type": "code",
   "execution_count": 2,
   "metadata": {},
   "outputs": [
    {
     "name": "stdout",
     "output_type": "stream",
     "text": [
      "prectica "
     ]
    }
   ],
   "source": [
    "#User function Template for python3\n",
    "class Solution:\n",
    "    def modify(self, s):\n",
    "        i = 0\n",
    "        j = len(s) - 1\n",
    "        s = list(s)  # Convert string to list for easy character swapping\n",
    "        while i < j:\n",
    "            while i < j and (s[i] not in 'aeiou'):\n",
    "                i += 1\n",
    "            while i < j and (s[j] not in 'aeiou'):\n",
    "                j -= 1\n",
    "            if i < j:\n",
    "                s[i], s[j] = s[j], s[i]\n",
    "                i += 1\n",
    "                j -= 1  # Fix: should be j -= 1 instead of j += 1\n",
    "        return ''.join(s)\n",
    "\n",
    "if __name__ == \"__main__\":\n",
    "    x = input().strip()\n",
    "    ob = Solution()\n",
    "    answer = ob.modify(x)\n",
    "    print(answer,end=\" \")"
   ]
  },
  {
   "cell_type": "code",
   "execution_count": 3,
   "metadata": {},
   "outputs": [
    {
     "name": "stdout",
     "output_type": "stream",
     "text": [
      "prectica "
     ]
    }
   ],
   "source": [
    "#User function Template for python3\n",
    "\n",
    "class Solution:\n",
    "    def isVowel(self,c):\n",
    "        return (c=='a' or c=='A' or c=='e' or\n",
    "            c=='E' or c=='i' or c=='I' or\n",
    "            c=='o' or c=='O' or c=='u' or\n",
    "            c=='U') \n",
    "    def modify(self, s):\n",
    "        # code here\n",
    "        j = 0\n",
    "        vowel = [0] * len(s)\n",
    "        string = list(s)\n",
    "        # Storing the vowels separately\n",
    "        for i in range(len(string)):\n",
    "            if self.isVowel(string[i]):\n",
    "                vowel[j] = string[i]\n",
    "                j += 1\n",
    "        \n",
    "        # Placing the vowels in the reverse\n",
    "        # order in the string\n",
    "        for i in range(len(string)):\n",
    "            if self.isVowel(string[i]):\n",
    "                j -= 1\n",
    "                string[i] = vowel[j]\n",
    " \n",
    "        return ''.join(string)\n",
    "\n",
    "if __name__ == \"__main__\":\n",
    "    x = input().strip()\n",
    "    ob = Solution()\n",
    "    answer = ob.modify(x)\n",
    "    print(answer,end=\" \")"
   ]
  }
 ],
 "metadata": {
  "kernelspec": {
   "display_name": "Python 3",
   "language": "python",
   "name": "python3"
  },
  "language_info": {
   "codemirror_mode": {
    "name": "ipython",
    "version": 3
   },
   "file_extension": ".py",
   "mimetype": "text/x-python",
   "name": "python",
   "nbconvert_exporter": "python",
   "pygments_lexer": "ipython3",
   "version": "3.10.9"
  }
 },
 "nbformat": 4,
 "nbformat_minor": 2
}

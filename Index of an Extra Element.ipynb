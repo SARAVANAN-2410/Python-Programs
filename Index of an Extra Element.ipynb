{
 "cells": [
  {
   "cell_type": "code",
   "execution_count": 1,
   "metadata": {},
   "outputs": [
    {
     "name": "stdout",
     "output_type": "stream",
     "text": [
      "4\n"
     ]
    }
   ],
   "source": [
    "#User function Template for python3\n",
    "class Solution:\n",
    "    def findExtra(self,a,b,n):\n",
    "        #add code here\n",
    "        for i in range(n):\n",
    "            if a[i] != b[i]:\n",
    "                return i\n",
    "\n",
    "if __name__ == \"__main__\":\n",
    "    N = 7\n",
    "    A = [2,4,6,8,9,10,12]\n",
    "    B = [2,4,6,8,10,12]\n",
    "    ob = Solution()\n",
    "    print(ob.findExtra(A,B,N))"
   ]
  },
  {
   "cell_type": "code",
   "execution_count": 2,
   "metadata": {},
   "outputs": [
    {
     "name": "stdout",
     "output_type": "stream",
     "text": [
      "4\n"
     ]
    }
   ],
   "source": [
    "class Solution:\n",
    "    def findExtra(self,a,b,n):\n",
    "        #add code here\n",
    "        i = 0\n",
    "        for i in range(n):\n",
    "            if a[i] != b[i]:\n",
    "                return i\n",
    "            i +=1\n",
    "        return i\n",
    "\n",
    "if __name__ == \"__main__\":\n",
    "    N = 7\n",
    "    A = [2,4,6,8,9,10,12]\n",
    "    B = [2,4,6,8,10,12]\n",
    "    ob = Solution()\n",
    "    print(ob.findExtra(A,B,N))"
   ]
  },
  {
   "cell_type": "code",
   "execution_count": 3,
   "metadata": {},
   "outputs": [
    {
     "name": "stdout",
     "output_type": "stream",
     "text": [
      "4\n"
     ]
    }
   ],
   "source": [
    "class Solution:\n",
    "    def findExtra(self,a,b,n):\n",
    "        #add code here\n",
    "        s = 0\n",
    "        for i in range(n-1):\n",
    "            if a[i] != b[i]:\n",
    "                s = i\n",
    "                return s\n",
    "        if s == 0 :\n",
    "            return n-1\n",
    "\n",
    "\n",
    "if __name__ == \"__main__\":\n",
    "    N = 7\n",
    "    A = [2,4,6,8,9,10,12]\n",
    "    B = [2,4,6,8,10,12]\n",
    "    ob = Solution()\n",
    "    print(ob.findExtra(A,B,N))"
   ]
  },
  {
   "cell_type": "code",
   "execution_count": 4,
   "metadata": {},
   "outputs": [
    {
     "name": "stdout",
     "output_type": "stream",
     "text": [
      "4\n"
     ]
    }
   ],
   "source": [
    "class Solution:\n",
    "    def findExtra(self,a,b,n):\n",
    "        #add code here\n",
    "        total_a = sum(a)\n",
    "        total_b = sum(b)\n",
    "        array = a + b\n",
    "        sum_array = total_a - total_b\n",
    "        return array.index(sum_array)\n",
    "\n",
    "\n",
    "if __name__ == \"__main__\":\n",
    "    N = 7\n",
    "    A = [2,4,6,8,9,10,12]\n",
    "    B = [2,4,6,8,10,12]\n",
    "    ob = Solution()\n",
    "    print(ob.findExtra(A,B,N))"
   ]
  },
  {
   "cell_type": "code",
   "execution_count": 5,
   "metadata": {},
   "outputs": [
    {
     "name": "stdout",
     "output_type": "stream",
     "text": [
      "4\n"
     ]
    }
   ],
   "source": [
    "class Solution:\n",
    "    def findExtra(self,a,b,n):\n",
    "        #add code here\n",
    "        if a[n-1] != b[len(b)-1]:\n",
    "            return n-1\n",
    "        \n",
    "        end = n-2\n",
    "        start = 0\n",
    "        \n",
    "        while start <= end:\n",
    "            mid = (start + end) // 2\n",
    "            \n",
    "            if a[mid] == b[mid]:\n",
    "                start = mid + 1\n",
    "            else:\n",
    "                end = mid - 1\n",
    "        \n",
    "        return start\n",
    "\n",
    "\n",
    "if __name__ == \"__main__\":\n",
    "    N = 7\n",
    "    A = [2,4,6,8,9,10,12]\n",
    "    B = [2,4,6,8,10,12]\n",
    "    ob = Solution()\n",
    "    print(ob.findExtra(A,B,N))"
   ]
  }
 ],
 "metadata": {
  "kernelspec": {
   "display_name": "Python 3",
   "language": "python",
   "name": "python3"
  },
  "language_info": {
   "codemirror_mode": {
    "name": "ipython",
    "version": 3
   },
   "file_extension": ".py",
   "mimetype": "text/x-python",
   "name": "python",
   "nbconvert_exporter": "python",
   "pygments_lexer": "ipython3",
   "version": "3.10.9"
  }
 },
 "nbformat": 4,
 "nbformat_minor": 2
}

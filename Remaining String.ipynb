{
 "cells": [
  {
   "cell_type": "code",
   "execution_count": null,
   "metadata": {},
   "outputs": [],
   "source": [
    "# Thisisdemostring"
   ]
  },
  {
   "cell_type": "code",
   "execution_count": 1,
   "metadata": {},
   "outputs": [
    {
     "name": "stdout",
     "output_type": "stream",
     "text": [
      "ng "
     ]
    }
   ],
   "source": [
    "#User function Template for python3\n",
    "class Solution:\n",
    "    def printString(self, S, ch, count):\n",
    "        # code here\n",
    "        k=[]\n",
    "        l=len(S)\n",
    "        for z in range(l):\n",
    "            if S[z]==ch:\n",
    "                k.append(z)\n",
    "            else:\n",
    "                continue\n",
    "        if count==0:\n",
    "            return S\n",
    "        if len(k)>=count:\n",
    "            e=k[count-1]\n",
    "            m=S[e+1:]\n",
    "            if m=='':\n",
    "                return \"Empty string\"\n",
    "            else:\n",
    "                return m\n",
    "        else:\n",
    "            return \"Empty string\" \n",
    "\n",
    "if __name__ == \"__main__\":\n",
    "    s = input()\n",
    "    ch = input()[0]\n",
    "    count = int(input())\n",
    "    ob = Solution()\n",
    "    answer = ob.printString(s,ch,count)\n",
    "    print(answer,end=\" \")"
   ]
  },
  {
   "cell_type": "code",
   "execution_count": 2,
   "metadata": {},
   "outputs": [
    {
     "name": "stdout",
     "output_type": "stream",
     "text": [
      "Empty string "
     ]
    }
   ],
   "source": [
    "#User function Template for python3\n",
    "class Solution:\n",
    "    def printString(self, S, ch, count):\n",
    "        # code here\n",
    "        if count == 0 :\n",
    "            return S\n",
    "        result = \"\"\n",
    "        for i in range(len(S)) :\n",
    "            if S[i] == ch :\n",
    "                count-=1\n",
    "                if count == 0 :\n",
    "                    result += S[i+1:]\n",
    "                    if len(result):return result\n",
    "                    else : return \"Empty string\"\n",
    "        else : return \"Empty string\"\n",
    "        \n",
    "\n",
    "   \n",
    "\n",
    "if __name__ == \"__main__\":\n",
    "    s = input()\n",
    "    ch = input()[0]\n",
    "    count = int(input())\n",
    "    ob = Solution()\n",
    "    answer = ob.printString(s,ch,count)\n",
    "    print(answer,end=\" \")"
   ]
  }
 ],
 "metadata": {
  "kernelspec": {
   "display_name": "Python 3",
   "language": "python",
   "name": "python3"
  },
  "language_info": {
   "codemirror_mode": {
    "name": "ipython",
    "version": 3
   },
   "file_extension": ".py",
   "mimetype": "text/x-python",
   "name": "python",
   "nbconvert_exporter": "python",
   "pygments_lexer": "ipython3",
   "version": "3.10.9"
  }
 },
 "nbformat": 4,
 "nbformat_minor": 2
}

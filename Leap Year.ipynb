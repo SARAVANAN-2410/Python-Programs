{
 "cells": [
  {
   "cell_type": "code",
   "execution_count": null,
   "metadata": {},
   "outputs": [],
   "source": [
    "\n",
    "class Solution:\n",
    "    def isLeap(self, N):\n",
    "        # code here\n",
    "        if N % 4 == 0 and N % 100 != 0 or N % 100 == 0 and N % 400 == 0 :\n",
    "            return 1\n",
    "        else : return 0     \n",
    "\n",
    "if __name__ == \"__main__\":\n",
    "    x = int(input())\n",
    "    ob = Solution()\n",
    "    answer = ob.isLeap(x)\n",
    "    print(answer,end=\" \")"
   ]
  }
 ],
 "metadata": {
  "kernelspec": {
   "display_name": "Python 3",
   "language": "python",
   "name": "python3"
  },
  "language_info": {
   "name": "python",
   "version": "3.10.9"
  }
 },
 "nbformat": 4,
 "nbformat_minor": 2
}

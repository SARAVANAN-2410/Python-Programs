{
 "cells": [
  {
   "cell_type": "code",
   "execution_count": 1,
   "metadata": {},
   "outputs": [
    {
     "name": "stdout",
     "output_type": "stream",
     "text": [
      "48 "
     ]
    }
   ],
   "source": [
    "#User function Template for python3\n",
    "class Solution:\n",
    "    def get_num(self,s):\n",
    "        num = 0\n",
    "        for i in s :\n",
    "            num = num * 10 +(ord(i)-48)\n",
    "        return num\n",
    "            \n",
    "            \n",
    "    def findSum(self, X, Y):\n",
    "        # code here\n",
    "        X = self.get_num(X)\n",
    "        Y = self.get_num(Y)\n",
    "        total = X+Y\n",
    "        return total\n",
    "        \n",
    "if __name__ == \"__main__\":\n",
    "    \n",
    "    x = input()\n",
    "    y = input()\n",
    "    ob = Solution()\n",
    "    answer = ob.findSum(x,y)\n",
    "    print(answer,end=\" \")\n"
   ]
  },
  {
   "cell_type": "code",
   "execution_count": 2,
   "metadata": {},
   "outputs": [
    {
     "name": "stdout",
     "output_type": "stream",
     "text": [
      "48 "
     ]
    }
   ],
   "source": [
    "#User function Template for python3\n",
    "class Solution:            \n",
    "    def findSum(self, X, Y):\n",
    "        # code here\n",
    "        return int(X)+int(Y)\n",
    "        \n",
    "if __name__ == \"__main__\":\n",
    "    \n",
    "    x = input()\n",
    "    y = input()\n",
    "    ob = Solution()\n",
    "    answer = ob.findSum(x,y)\n",
    "    print(answer,end=\" \")\n"
   ]
  },
  {
   "cell_type": "code",
   "execution_count": null,
   "metadata": {},
   "outputs": [],
   "source": [
    "#User function Template for python3\n",
    "class Solution:\n",
    "    def findSum(self, X, Y):\n",
    "        # code here\n",
    "        pass\n",
    "        \n",
    "if __name__ == \"__main__\":\n",
    "    \n",
    "    x = input()\n",
    "    y = input()\n",
    "    ob = Solution()\n",
    "    answer = ob.findSum(x,y)\n",
    "    print(answer,end=\" \")\n"
   ]
  }
 ],
 "metadata": {
  "kernelspec": {
   "display_name": "Python 3",
   "language": "python",
   "name": "python3"
  },
  "language_info": {
   "codemirror_mode": {
    "name": "ipython",
    "version": 3
   },
   "file_extension": ".py",
   "mimetype": "text/x-python",
   "name": "python",
   "nbconvert_exporter": "python",
   "pygments_lexer": "ipython3",
   "version": "3.10.9"
  }
 },
 "nbformat": 4,
 "nbformat_minor": 2
}

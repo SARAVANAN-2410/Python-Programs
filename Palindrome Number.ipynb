{
 "cells": [
  {
   "cell_type": "code",
   "execution_count": 1,
   "metadata": {},
   "outputs": [
    {
     "name": "stdout",
     "output_type": "stream",
     "text": [
      "Yes "
     ]
    }
   ],
   "source": [
    "#User function Template for python3\n",
    "class Solution:\n",
    "    def is_palindrome(self, n):\n",
    "        # Code here\n",
    "        res = 0\n",
    "        N = n\n",
    "        while n > 0 :\n",
    "            temp = n % 10\n",
    "            res = res * 10 + temp\n",
    "            n = n // 10\n",
    "        if res == N :\n",
    "            return 'Yes'\n",
    "        else :\n",
    "            return 'No'\n",
    "if __name__ == \"__main__\":\n",
    "    \n",
    "    x = int(input())\n",
    "    ob = Solution()\n",
    "    answer = ob.is_palindrome(x)\n",
    "    print(answer,end=\" \")"
   ]
  },
  {
   "cell_type": "code",
   "execution_count": 2,
   "metadata": {},
   "outputs": [
    {
     "name": "stdout",
     "output_type": "stream",
     "text": [
      "Yes "
     ]
    }
   ],
   "source": [
    "#User function Template for python3\n",
    "class Solution:\n",
    "    def is_palindrome(self, n):\n",
    "        # Code here\n",
    "        return \"Yes\" if str(n) == str(n)[::-1] else \"No\"\n",
    "        \n",
    "if __name__ == \"__main__\":\n",
    "    \n",
    "    x = int(input())\n",
    "    ob = Solution()\n",
    "    answer = ob.is_palindrome(x)\n",
    "    print(answer,end=\" \")"
   ]
  },
  {
   "cell_type": "code",
   "execution_count": 3,
   "metadata": {},
   "outputs": [
    {
     "name": "stdout",
     "output_type": "stream",
     "text": [
      "Yes "
     ]
    }
   ],
   "source": [
    "#User function Template for python3\n",
    "class Solution:\n",
    "    def is_palindrome(self, n):\n",
    "        # Code here\n",
    "        n = str(n)\n",
    "        # Run loop from 0 to len/2\n",
    "        for i in range(0,len(n)//2):\n",
    "            if n[i] != n[len(n)-i-1]:\n",
    "                return 'No'\n",
    "        return 'Yes'\n",
    "        \n",
    "if __name__ == \"__main__\":\n",
    "    \n",
    "    x = int(input())\n",
    "    ob = Solution()\n",
    "    answer = ob.is_palindrome(x)\n",
    "    print(answer,end=\" \")"
   ]
  }
 ],
 "metadata": {
  "kernelspec": {
   "display_name": "Python 3",
   "language": "python",
   "name": "python3"
  },
  "language_info": {
   "codemirror_mode": {
    "name": "ipython",
    "version": 3
   },
   "file_extension": ".py",
   "mimetype": "text/x-python",
   "name": "python",
   "nbconvert_exporter": "python",
   "pygments_lexer": "ipython3",
   "version": "3.10.9"
  }
 },
 "nbformat": 4,
 "nbformat_minor": 2
}

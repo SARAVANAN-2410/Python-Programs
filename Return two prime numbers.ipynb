{
 "cells": [
  {
   "cell_type": "code",
   "execution_count": 5,
   "metadata": {},
   "outputs": [
    {
     "name": "stdout",
     "output_type": "stream",
     "text": [
      "3 71\n"
     ]
    }
   ],
   "source": [
    "class Solution:\n",
    "    def isPrime(self, n):\n",
    "        if n<= 1 : return False\n",
    "        for i in range(2,n):\n",
    "            if n%i == 0 : return False\n",
    "        return True\n",
    "        \n",
    "    def primeDivision(self, N):\n",
    "        # code here\n",
    "        result = []\n",
    "        for i in range(2,N):\n",
    "            if self.isPrime(i) and self.isPrime(N-i):\n",
    "                result.append(i)\n",
    "                result.append(N-i)\n",
    "                break\n",
    "        return result\n",
    "\n",
    "if __name__ == \"__main__\":\n",
    "    ob = Solution()\n",
    "    N = int(input())\n",
    "    p1 , p2 = ob.primeDivision(N)\n",
    "    print(p1,end=\" \")\n",
    "    print(p2)"
   ]
  },
  {
   "cell_type": "code",
   "execution_count": 6,
   "metadata": {},
   "outputs": [
    {
     "name": "stdout",
     "output_type": "stream",
     "text": [
      "3 71\n"
     ]
    }
   ],
   "source": [
    "def primeDivision(self, N):\n",
    "        isPrime = [True]*(N+1)\n",
    "        i = 2\n",
    "        while i*i <= N:\n",
    "            if isPrime[i] and i*i <= N:\n",
    "                for j in range(i*i,N+1,i):\n",
    "                    isPrime[j] = False\n",
    "            i += 1\n",
    "        num1,num2 = 0,0\n",
    "        for i in range(2,N):\n",
    "            if isPrime[i] == True:\n",
    "                num1 = i\n",
    "                num2 = N-i\n",
    "                if isPrime[N-i] == True:\n",
    "                    break\n",
    "        return num1,num2\n",
    "\n",
    "if __name__ == \"__main__\":\n",
    "    ob = Solution()\n",
    "    N = int(input())\n",
    "    p1 , p2 = ob.primeDivision(N)\n",
    "    print(p1,end=\" \")\n",
    "    print(p2)"
   ]
  },
  {
   "cell_type": "code",
   "execution_count": null,
   "metadata": {},
   "outputs": [],
   "source": []
  }
 ],
 "metadata": {
  "kernelspec": {
   "display_name": "Python 3",
   "language": "python",
   "name": "python3"
  },
  "language_info": {
   "codemirror_mode": {
    "name": "ipython",
    "version": 3
   },
   "file_extension": ".py",
   "mimetype": "text/x-python",
   "name": "python",
   "nbconvert_exporter": "python",
   "pygments_lexer": "ipython3",
   "version": "3.12.2"
  }
 },
 "nbformat": 4,
 "nbformat_minor": 2
}
